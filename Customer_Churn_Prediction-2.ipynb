{
  "nbformat": 4,
  "nbformat_minor": 0,
  "metadata": {
    "colab": {
      "provenance": []
    },
    "kernelspec": {
      "name": "python3",
      "display_name": "Python 3"
    },
    "language_info": {
      "name": "python"
    }
  },
  "cells": [
    {
      "cell_type": "code",
      "execution_count": 59,
      "metadata": {
        "colab": {
          "base_uri": "https://localhost:8080/"
        },
        "id": "0A7xYbRvwqsy",
        "outputId": "1c2e9d20-4f16-46ad-f9d7-7f26ad6cdd0e"
      },
      "outputs": [
        {
          "output_type": "stream",
          "name": "stdout",
          "text": [
            "Requirement already satisfied: pandas in /usr/local/lib/python3.12/dist-packages (2.2.2)\n",
            "Requirement already satisfied: numpy in /usr/local/lib/python3.12/dist-packages (2.0.2)\n",
            "Requirement already satisfied: scikit-learn in /usr/local/lib/python3.12/dist-packages (1.6.1)\n",
            "Requirement already satisfied: matplotlib in /usr/local/lib/python3.12/dist-packages (3.10.0)\n",
            "Requirement already satisfied: seaborn in /usr/local/lib/python3.12/dist-packages (0.13.2)\n",
            "Requirement already satisfied: pandasql in /usr/local/lib/python3.12/dist-packages (0.7.3)\n",
            "Requirement already satisfied: python-dateutil>=2.8.2 in /usr/local/lib/python3.12/dist-packages (from pandas) (2.9.0.post0)\n",
            "Requirement already satisfied: pytz>=2020.1 in /usr/local/lib/python3.12/dist-packages (from pandas) (2025.2)\n",
            "Requirement already satisfied: tzdata>=2022.7 in /usr/local/lib/python3.12/dist-packages (from pandas) (2025.2)\n",
            "Requirement already satisfied: scipy>=1.6.0 in /usr/local/lib/python3.12/dist-packages (from scikit-learn) (1.16.1)\n",
            "Requirement already satisfied: joblib>=1.2.0 in /usr/local/lib/python3.12/dist-packages (from scikit-learn) (1.5.2)\n",
            "Requirement already satisfied: threadpoolctl>=3.1.0 in /usr/local/lib/python3.12/dist-packages (from scikit-learn) (3.6.0)\n",
            "Requirement already satisfied: contourpy>=1.0.1 in /usr/local/lib/python3.12/dist-packages (from matplotlib) (1.3.3)\n",
            "Requirement already satisfied: cycler>=0.10 in /usr/local/lib/python3.12/dist-packages (from matplotlib) (0.12.1)\n",
            "Requirement already satisfied: fonttools>=4.22.0 in /usr/local/lib/python3.12/dist-packages (from matplotlib) (4.59.2)\n",
            "Requirement already satisfied: kiwisolver>=1.3.1 in /usr/local/lib/python3.12/dist-packages (from matplotlib) (1.4.9)\n",
            "Requirement already satisfied: packaging>=20.0 in /usr/local/lib/python3.12/dist-packages (from matplotlib) (25.0)\n",
            "Requirement already satisfied: pillow>=8 in /usr/local/lib/python3.12/dist-packages (from matplotlib) (11.3.0)\n",
            "Requirement already satisfied: pyparsing>=2.3.1 in /usr/local/lib/python3.12/dist-packages (from matplotlib) (3.2.3)\n",
            "Requirement already satisfied: sqlalchemy in /usr/local/lib/python3.12/dist-packages (from pandasql) (2.0.43)\n",
            "Requirement already satisfied: six>=1.5 in /usr/local/lib/python3.12/dist-packages (from python-dateutil>=2.8.2->pandas) (1.17.0)\n",
            "Requirement already satisfied: greenlet>=1 in /usr/local/lib/python3.12/dist-packages (from sqlalchemy->pandasql) (3.2.4)\n",
            "Requirement already satisfied: typing-extensions>=4.6.0 in /usr/local/lib/python3.12/dist-packages (from sqlalchemy->pandasql) (4.15.0)\n"
          ]
        }
      ],
      "source": [
        "!pip install pandas numpy scikit-learn matplotlib seaborn pandasql"
      ]
    },
    {
      "cell_type": "code",
      "source": [
        "import pandas as pd\n",
        "df = pd.read_csv('WA_Fn-UseC_-Telco-Customer-Churn.csv')"
      ],
      "metadata": {
        "id": "YQ65Rd3uwtZY"
      },
      "execution_count": 60,
      "outputs": []
    },
    {
      "cell_type": "code",
      "source": [
        "print(df.head())\n",
        "print(df.shape)"
      ],
      "metadata": {
        "colab": {
          "base_uri": "https://localhost:8080/"
        },
        "id": "lpRHpVsQxT0C",
        "outputId": "14dea94d-e2a8-4814-9c00-58b4f3c149be"
      },
      "execution_count": 61,
      "outputs": [
        {
          "output_type": "stream",
          "name": "stdout",
          "text": [
            "   customerID  gender  SeniorCitizen Partner Dependents  tenure PhoneService  \\\n",
            "0  7590-VHVEG  Female              0     Yes         No       1           No   \n",
            "1  5575-GNVDE    Male              0      No         No      34          Yes   \n",
            "2  3668-QPYBK    Male              0      No         No       2          Yes   \n",
            "3  7795-CFOCW    Male              0      No         No      45           No   \n",
            "4  9237-HQITU  Female              0      No         No       2          Yes   \n",
            "\n",
            "      MultipleLines InternetService OnlineSecurity  ... DeviceProtection  \\\n",
            "0  No phone service             DSL             No  ...               No   \n",
            "1                No             DSL            Yes  ...              Yes   \n",
            "2                No             DSL            Yes  ...               No   \n",
            "3  No phone service             DSL            Yes  ...              Yes   \n",
            "4                No     Fiber optic             No  ...               No   \n",
            "\n",
            "  TechSupport StreamingTV StreamingMovies        Contract PaperlessBilling  \\\n",
            "0          No          No              No  Month-to-month              Yes   \n",
            "1          No          No              No        One year               No   \n",
            "2          No          No              No  Month-to-month              Yes   \n",
            "3         Yes          No              No        One year               No   \n",
            "4          No          No              No  Month-to-month              Yes   \n",
            "\n",
            "               PaymentMethod MonthlyCharges  TotalCharges Churn  \n",
            "0           Electronic check          29.85         29.85    No  \n",
            "1               Mailed check          56.95        1889.5    No  \n",
            "2               Mailed check          53.85        108.15   Yes  \n",
            "3  Bank transfer (automatic)          42.30       1840.75    No  \n",
            "4           Electronic check          70.70        151.65   Yes  \n",
            "\n",
            "[5 rows x 21 columns]\n",
            "(7043, 21)\n"
          ]
        }
      ]
    },
    {
      "cell_type": "code",
      "source": [
        "print(df.info())\n",
        "print(df.isnull().sum())"
      ],
      "metadata": {
        "colab": {
          "base_uri": "https://localhost:8080/"
        },
        "id": "kPZDwr8Xxd-X",
        "outputId": "ed9f0f9e-547e-40f4-aac9-73be6e656188"
      },
      "execution_count": 62,
      "outputs": [
        {
          "output_type": "stream",
          "name": "stdout",
          "text": [
            "<class 'pandas.core.frame.DataFrame'>\n",
            "RangeIndex: 7043 entries, 0 to 7042\n",
            "Data columns (total 21 columns):\n",
            " #   Column            Non-Null Count  Dtype  \n",
            "---  ------            --------------  -----  \n",
            " 0   customerID        7043 non-null   object \n",
            " 1   gender            7043 non-null   object \n",
            " 2   SeniorCitizen     7043 non-null   int64  \n",
            " 3   Partner           7043 non-null   object \n",
            " 4   Dependents        7043 non-null   object \n",
            " 5   tenure            7043 non-null   int64  \n",
            " 6   PhoneService      7043 non-null   object \n",
            " 7   MultipleLines     7043 non-null   object \n",
            " 8   InternetService   7043 non-null   object \n",
            " 9   OnlineSecurity    7043 non-null   object \n",
            " 10  OnlineBackup      7043 non-null   object \n",
            " 11  DeviceProtection  7043 non-null   object \n",
            " 12  TechSupport       7043 non-null   object \n",
            " 13  StreamingTV       7043 non-null   object \n",
            " 14  StreamingMovies   7043 non-null   object \n",
            " 15  Contract          7043 non-null   object \n",
            " 16  PaperlessBilling  7043 non-null   object \n",
            " 17  PaymentMethod     7043 non-null   object \n",
            " 18  MonthlyCharges    7043 non-null   float64\n",
            " 19  TotalCharges      7043 non-null   object \n",
            " 20  Churn             7043 non-null   object \n",
            "dtypes: float64(1), int64(2), object(18)\n",
            "memory usage: 1.1+ MB\n",
            "None\n",
            "customerID          0\n",
            "gender              0\n",
            "SeniorCitizen       0\n",
            "Partner             0\n",
            "Dependents          0\n",
            "tenure              0\n",
            "PhoneService        0\n",
            "MultipleLines       0\n",
            "InternetService     0\n",
            "OnlineSecurity      0\n",
            "OnlineBackup        0\n",
            "DeviceProtection    0\n",
            "TechSupport         0\n",
            "StreamingTV         0\n",
            "StreamingMovies     0\n",
            "Contract            0\n",
            "PaperlessBilling    0\n",
            "PaymentMethod       0\n",
            "MonthlyCharges      0\n",
            "TotalCharges        0\n",
            "Churn               0\n",
            "dtype: int64\n"
          ]
        }
      ]
    },
    {
      "cell_type": "code",
      "source": [
        "print(df.describe())"
      ],
      "metadata": {
        "colab": {
          "base_uri": "https://localhost:8080/"
        },
        "id": "y019VXEXxrEq",
        "outputId": "bedec31f-ad04-4a48-e5ce-244620d8fa82"
      },
      "execution_count": 63,
      "outputs": [
        {
          "output_type": "stream",
          "name": "stdout",
          "text": [
            "       SeniorCitizen       tenure  MonthlyCharges\n",
            "count    7043.000000  7043.000000     7043.000000\n",
            "mean        0.162147    32.371149       64.761692\n",
            "std         0.368612    24.559481       30.090047\n",
            "min         0.000000     0.000000       18.250000\n",
            "25%         0.000000     9.000000       35.500000\n",
            "50%         0.000000    29.000000       70.350000\n",
            "75%         0.000000    55.000000       89.850000\n",
            "max         1.000000    72.000000      118.750000\n"
          ]
        }
      ]
    },
    {
      "cell_type": "code",
      "source": [
        "print(df['Churn'].value_counts())"
      ],
      "metadata": {
        "colab": {
          "base_uri": "https://localhost:8080/"
        },
        "id": "s7ICLPo9xvre",
        "outputId": "b0190109-9ecd-4277-bbd0-4c6f4d153016"
      },
      "execution_count": 64,
      "outputs": [
        {
          "output_type": "stream",
          "name": "stdout",
          "text": [
            "Churn\n",
            "No     5174\n",
            "Yes    1869\n",
            "Name: count, dtype: int64\n"
          ]
        }
      ]
    },
    {
      "cell_type": "code",
      "source": [
        "from pandasql import sqldf"
      ],
      "metadata": {
        "id": "bhb0Z1orx2vw"
      },
      "execution_count": 65,
      "outputs": []
    },
    {
      "cell_type": "code",
      "source": [
        "pysqldf = lambda q: sqldf(q, globals())"
      ],
      "metadata": {
        "id": "831rw6oqx35N"
      },
      "execution_count": 66,
      "outputs": []
    },
    {
      "cell_type": "code",
      "source": [
        "query1 = \"SELECT Contract, COUNT(*) as Count FROM df GROUP BY Contract;\"\n",
        "print(pysqldf(query1))"
      ],
      "metadata": {
        "colab": {
          "base_uri": "https://localhost:8080/"
        },
        "id": "TQ5ZX1tfx6gp",
        "outputId": "1535434c-e131-4aaf-8608-a30a3bb2a734"
      },
      "execution_count": 67,
      "outputs": [
        {
          "output_type": "stream",
          "name": "stdout",
          "text": [
            "         Contract  Count\n",
            "0  Month-to-month   3875\n",
            "1        One year   1473\n",
            "2        Two year   1695\n"
          ]
        }
      ]
    },
    {
      "cell_type": "code",
      "source": [
        "query2 = \"SELECT Churn, AVG(MonthlyCharges) as AvgCharges FROM df GROUP BY Churn;\"\n",
        "print(pysqldf(query2))"
      ],
      "metadata": {
        "colab": {
          "base_uri": "https://localhost:8080/"
        },
        "id": "ZSODE-mVx8x8",
        "outputId": "26e8e38f-1bf1-4f40-bcc4-7470b8e6f3b3"
      },
      "execution_count": 68,
      "outputs": [
        {
          "output_type": "stream",
          "name": "stdout",
          "text": [
            "  Churn  AvgCharges\n",
            "0    No   61.265124\n",
            "1   Yes   74.441332\n"
          ]
        }
      ]
    },
    {
      "cell_type": "code",
      "source": [
        "query3 = \"SELECT PaymentMethod, SUM(CASE WHEN Churn = 'Yes' THEN 1 ELSE 0 END) as ChurnCount FROM df GROUP BY PaymentMethod;\"\n",
        "print(pysqldf(query3))"
      ],
      "metadata": {
        "colab": {
          "base_uri": "https://localhost:8080/"
        },
        "id": "v-b3K3pryF_U",
        "outputId": "ef9f2d49-2ada-46e3-f884-69c05068ed7a"
      },
      "execution_count": 69,
      "outputs": [
        {
          "output_type": "stream",
          "name": "stdout",
          "text": [
            "               PaymentMethod  ChurnCount\n",
            "0  Bank transfer (automatic)         258\n",
            "1    Credit card (automatic)         232\n",
            "2           Electronic check        1071\n",
            "3               Mailed check         308\n"
          ]
        }
      ]
    },
    {
      "cell_type": "code",
      "source": [
        "df.drop('customerID', axis=1, inplace=True)"
      ],
      "metadata": {
        "id": "wiCzwyq-ybS2"
      },
      "execution_count": 70,
      "outputs": []
    },
    {
      "cell_type": "code",
      "source": [
        "#Convert TotalCharges to numeric, fill missing with median\n",
        "df['TotalCharges'] = pd.to_numeric(df['TotalCharges'], errors='coerce')  #Spaces to NaN\n",
        "print(df['TotalCharges'].isnull().sum())  #=11\n",
        "df['TotalCharges'].fillna(df['TotalCharges'].median(), inplace=True) #Used median to avoid skew in TotalCharges\n",
        "print(df['TotalCharges'].isnull().sum())"
      ],
      "metadata": {
        "colab": {
          "base_uri": "https://localhost:8080/"
        },
        "id": "aS2rrXXqytjG",
        "outputId": "a1578005-a89e-4557-c796-6434371bc89f"
      },
      "execution_count": 71,
      "outputs": [
        {
          "output_type": "stream",
          "name": "stdout",
          "text": [
            "11\n",
            "0\n"
          ]
        },
        {
          "output_type": "stream",
          "name": "stderr",
          "text": [
            "/tmp/ipython-input-1504544479.py:4: FutureWarning: A value is trying to be set on a copy of a DataFrame or Series through chained assignment using an inplace method.\n",
            "The behavior will change in pandas 3.0. This inplace method will never work because the intermediate object on which we are setting values always behaves as a copy.\n",
            "\n",
            "For example, when doing 'df[col].method(value, inplace=True)', try using 'df.method({col: value}, inplace=True)' or df[col] = df[col].method(value) instead, to perform the operation inplace on the original object.\n",
            "\n",
            "\n",
            "  df['TotalCharges'].fillna(df['TotalCharges'].median(), inplace=True) #Used median to avoid skew in TotalCharges\n"
          ]
        }
      ]
    },
    {
      "cell_type": "code",
      "source": [
        "#Convert binary columns (Yes/No) to 1/0 for modeling\n",
        "binary_cols = ['Partner', 'Dependents', 'PhoneService', 'MultipleLines',\n",
        "               'OnlineSecurity', 'OnlineBackup', 'DeviceProtection',\n",
        "               'TechSupport', 'StreamingTV', 'StreamingMovies', 'PaperlessBilling']\n",
        "for col in binary_cols:\n",
        "    df[col] = df[col].map({'Yes': 1, 'No': 0, 'No phone service': 0, 'No internet service': 0})\n",
        "df['Churn'] = df['Churn'].map({'Yes': 1, 'No': 0})  #Target\n",
        "print(df[binary_cols + ['Churn']].head())  #Verify 1s and 0s"
      ],
      "metadata": {
        "colab": {
          "base_uri": "https://localhost:8080/"
        },
        "id": "H6mZyuQz0Jam",
        "outputId": "e3e86225-22a4-44a7-89fc-428baa609193"
      },
      "execution_count": 72,
      "outputs": [
        {
          "output_type": "stream",
          "name": "stdout",
          "text": [
            "   Partner  Dependents  PhoneService  MultipleLines  OnlineSecurity  \\\n",
            "0        1           0             0              0               0   \n",
            "1        0           0             1              0               1   \n",
            "2        0           0             1              0               1   \n",
            "3        0           0             0              0               1   \n",
            "4        0           0             1              0               0   \n",
            "\n",
            "   OnlineBackup  DeviceProtection  TechSupport  StreamingTV  StreamingMovies  \\\n",
            "0             1                 0            0            0                0   \n",
            "1             0                 1            0            0                0   \n",
            "2             1                 0            0            0                0   \n",
            "3             0                 1            1            0                0   \n",
            "4             0                 0            0            0                0   \n",
            "\n",
            "   PaperlessBilling  Churn  \n",
            "0                 1      0  \n",
            "1                 0      0  \n",
            "2                 1      1  \n",
            "3                 0      0  \n",
            "4                 1      1  \n"
          ]
        }
      ]
    },
    {
      "cell_type": "code",
      "source": [
        "#My check: confirm no text remains in binary columns\n",
        "print(df[binary_cols].dtypes)  #Should be int64"
      ],
      "metadata": {
        "colab": {
          "base_uri": "https://localhost:8080/"
        },
        "id": "kAcZ79Lc0hMu",
        "outputId": "1e5ab3eb-0485-4280-9063-3f7a5659c241"
      },
      "execution_count": 73,
      "outputs": [
        {
          "output_type": "stream",
          "name": "stdout",
          "text": [
            "Partner             int64\n",
            "Dependents          int64\n",
            "PhoneService        int64\n",
            "MultipleLines       int64\n",
            "OnlineSecurity      int64\n",
            "OnlineBackup        int64\n",
            "DeviceProtection    int64\n",
            "TechSupport         int64\n",
            "StreamingTV         int64\n",
            "StreamingMovies     int64\n",
            "PaperlessBilling    int64\n",
            "dtype: object\n"
          ]
        }
      ]
    },
    {
      "cell_type": "code",
      "source": [
        "#One-hot encode categorical columns (e.g., gender, Contract)\n",
        "df = pd.get_dummies(df, columns=['gender', 'InternetService', 'Contract', 'PaymentMethod'], drop_first=True)\n",
        "print(df.shape)  #Expected is (7043, 20-30)\n",
        "print(df.head())  #See new columns like Contract_One year"
      ],
      "metadata": {
        "colab": {
          "base_uri": "https://localhost:8080/"
        },
        "id": "6_KJ1lGY0m7W",
        "outputId": "c2007f7c-9f2e-419e-c721-648b4e870216"
      },
      "execution_count": 74,
      "outputs": [
        {
          "output_type": "stream",
          "name": "stdout",
          "text": [
            "(7043, 24)\n",
            "   SeniorCitizen  Partner  Dependents  tenure  PhoneService  MultipleLines  \\\n",
            "0              0        1           0       1             0              0   \n",
            "1              0        0           0      34             1              0   \n",
            "2              0        0           0       2             1              0   \n",
            "3              0        0           0      45             0              0   \n",
            "4              0        0           0       2             1              0   \n",
            "\n",
            "   OnlineSecurity  OnlineBackup  DeviceProtection  TechSupport  ...  \\\n",
            "0               0             1                 0            0  ...   \n",
            "1               1             0                 1            0  ...   \n",
            "2               1             1                 0            0  ...   \n",
            "3               1             0                 1            1  ...   \n",
            "4               0             0                 0            0  ...   \n",
            "\n",
            "   TotalCharges  Churn  gender_Male  InternetService_Fiber optic  \\\n",
            "0         29.85      0        False                        False   \n",
            "1       1889.50      0         True                        False   \n",
            "2        108.15      1         True                        False   \n",
            "3       1840.75      0         True                        False   \n",
            "4        151.65      1        False                         True   \n",
            "\n",
            "   InternetService_No  Contract_One year  Contract_Two year  \\\n",
            "0               False              False              False   \n",
            "1               False               True              False   \n",
            "2               False              False              False   \n",
            "3               False               True              False   \n",
            "4               False              False              False   \n",
            "\n",
            "   PaymentMethod_Credit card (automatic)  PaymentMethod_Electronic check  \\\n",
            "0                                  False                            True   \n",
            "1                                  False                           False   \n",
            "2                                  False                           False   \n",
            "3                                  False                           False   \n",
            "4                                  False                            True   \n",
            "\n",
            "   PaymentMethod_Mailed check  \n",
            "0                       False  \n",
            "1                        True  \n",
            "2                        True  \n",
            "3                       False  \n",
            "4                       False  \n",
            "\n",
            "[5 rows x 24 columns]\n"
          ]
        }
      ]
    },
    {
      "cell_type": "code",
      "source": [
        "#Create custom feature: CostPerMonth (charges per month of tenure)\n",
        "df['CostPerMonth'] = df['MonthlyCharges'] / (df['tenure'] + 1)  #To avoid division by zero\n",
        "print(df['CostPerMonth'].head())  #Check values\n",
        "#Hypothesized that high cost per month increases churn"
      ],
      "metadata": {
        "colab": {
          "base_uri": "https://localhost:8080/"
        },
        "id": "WtWDmIee0vdt",
        "outputId": "4f571ee2-03ae-444a-dc85-3b7bf5a8e81e"
      },
      "execution_count": 75,
      "outputs": [
        {
          "output_type": "stream",
          "name": "stdout",
          "text": [
            "0    14.925000\n",
            "1     1.627143\n",
            "2    17.950000\n",
            "3     0.919565\n",
            "4    23.566667\n",
            "Name: CostPerMonth, dtype: float64\n"
          ]
        }
      ]
    },
    {
      "cell_type": "code",
      "source": [
        "#Scale numerical features for consistent model input\n",
        "from sklearn.preprocessing import StandardScaler\n",
        "scaler = StandardScaler()\n",
        "numerical_cols = ['tenure', 'MonthlyCharges', 'TotalCharges', 'CostPerMonth']\n",
        "df[numerical_cols] = scaler.fit_transform(df[numerical_cols])\n",
        "print(df[numerical_cols].head())  #Check scaled values (~ -2 to 2)\n",
        "#Scaled to ensure tenure and charges don’t dominate\n"
      ],
      "metadata": {
        "colab": {
          "base_uri": "https://localhost:8080/"
        },
        "id": "MQITX6Rx02_O",
        "outputId": "51940db3-34e9-4006-c58b-664b42d1c2a0"
      },
      "execution_count": 76,
      "outputs": [
        {
          "output_type": "stream",
          "name": "stdout",
          "text": [
            "     tenure  MonthlyCharges  TotalCharges  CostPerMonth\n",
            "0 -1.277445       -1.160323     -0.994242      1.049593\n",
            "1  0.066327       -0.259629     -0.173244     -0.475073\n",
            "2 -1.236724       -0.362660     -0.959674      1.396424\n",
            "3  0.514251       -0.746535     -0.194766     -0.556201\n",
            "4 -1.236724        0.197365     -0.940470      2.040403\n"
          ]
        }
      ]
    },
    {
      "cell_type": "code",
      "source": [
        "#Split data into train (80%) and test (20%) sets\n",
        "from sklearn.model_selection import train_test_split\n",
        "X = df.drop('Churn', axis=1)\n",
        "y = df['Churn']\n",
        "X_train, X_test, y_train, y_test = train_test_split(X, y, test_size=0.2, random_state=42)\n",
        "print(X_train.shape, X_test.shape)\n",
        "#Used 80/20 split to balance training and evaluation"
      ],
      "metadata": {
        "colab": {
          "base_uri": "https://localhost:8080/"
        },
        "id": "bUxEnR6a1ABO",
        "outputId": "2f6f91de-11c1-4e04-aef4-4f2dcaf62668"
      },
      "execution_count": 77,
      "outputs": [
        {
          "output_type": "stream",
          "name": "stdout",
          "text": [
            "(5634, 24) (1409, 24)\n"
          ]
        }
      ]
    },
    {
      "cell_type": "code",
      "source": [
        "#Custom: Churn rate by tenure groups\n",
        "df['TenureGroup'] = pd.cut(df['tenure'], bins=[0, 12, 24, 48, 72], labels=['0-1yr', '1-2yr', '2-4yr', '4-6yr'])\n",
        "print(df.groupby('TenureGroup')['Churn'].value_counts(normalize=True))\n",
        "#Found newer customers (0-1yr) have higher churn—key insight"
      ],
      "metadata": {
        "colab": {
          "base_uri": "https://localhost:8080/"
        },
        "id": "Svz03cUt1KVL",
        "outputId": "fc9b4153-3c9d-4346-c9a9-d04f6f4e6fe0"
      },
      "execution_count": 78,
      "outputs": [
        {
          "output_type": "stream",
          "name": "stdout",
          "text": [
            "TenureGroup  Churn\n",
            "0-1yr        0        0.874847\n",
            "             1        0.125153\n",
            "1-2yr        0        0.000000\n",
            "             1        0.000000\n",
            "2-4yr        0        0.000000\n",
            "             1        0.000000\n",
            "4-6yr        0        0.000000\n",
            "             1        0.000000\n",
            "Name: proportion, dtype: float64\n"
          ]
        },
        {
          "output_type": "stream",
          "name": "stderr",
          "text": [
            "/tmp/ipython-input-2152700077.py:3: FutureWarning: The default of observed=False is deprecated and will be changed to True in a future version of pandas. Pass observed=False to retain current behavior or observed=True to adopt the future default and silence this warning.\n",
            "  print(df.groupby('TenureGroup')['Churn'].value_counts(normalize=True))\n"
          ]
        }
      ]
    },
    {
      "cell_type": "code",
      "source": [
        "#Train baseline Logistic Regression\n",
        "from sklearn.linear_model import LogisticRegression\n",
        "model_lr = LogisticRegression(max_iter=1000)\n",
        "model_lr.fit(X_train, y_train)\n",
        "y_pred_lr = model_lr.predict(X_test)"
      ],
      "metadata": {
        "id": "lEBc-DB21djY"
      },
      "execution_count": 79,
      "outputs": []
    },
    {
      "cell_type": "code",
      "source": [
        "#Train Random Forest for better performance\n",
        "from sklearn.ensemble import RandomForestClassifier\n",
        "model_rf = RandomForestClassifier(random_state=42)\n",
        "model_rf.fit(X_train, y_train)\n",
        "y_pred_rf = model_rf.predict(X_test)"
      ],
      "metadata": {
        "id": "f4pp78T31g7A"
      },
      "execution_count": 80,
      "outputs": []
    },
    {
      "cell_type": "code",
      "source": [
        "#Try XGBoost for advanced modeling\n",
        "!pip install xgboost\n",
        "from xgboost import XGBClassifier\n",
        "model_xgb = XGBClassifier(random_state=42)\n",
        "model_xgb.fit(X_train, y_train)\n",
        "y_pred_xgb = model_xgb.predict(X_test)"
      ],
      "metadata": {
        "colab": {
          "base_uri": "https://localhost:8080/"
        },
        "id": "Ic8s_Nxy1jqz",
        "outputId": "df830f27-8241-42ba-910f-cd147d8faa9b"
      },
      "execution_count": 81,
      "outputs": [
        {
          "output_type": "stream",
          "name": "stdout",
          "text": [
            "Requirement already satisfied: xgboost in /usr/local/lib/python3.12/dist-packages (3.0.5)\n",
            "Requirement already satisfied: numpy in /usr/local/lib/python3.12/dist-packages (from xgboost) (2.0.2)\n",
            "Requirement already satisfied: nvidia-nccl-cu12 in /usr/local/lib/python3.12/dist-packages (from xgboost) (2.27.3)\n",
            "Requirement already satisfied: scipy in /usr/local/lib/python3.12/dist-packages (from xgboost) (1.16.1)\n"
          ]
        }
      ]
    },
    {
      "cell_type": "code",
      "source": [
        "#Evaluate models with accuracy, precision, recall, F1\n",
        "from sklearn.metrics import accuracy_score, precision_score, recall_score, f1_score, confusion_matrix\n",
        "for name, y_pred in [('Logistic Regression', y_pred_lr), ('Random Forest', y_pred_rf), ('XGBoost', y_pred_xgb)]:\n",
        "    print(f\"\\n{name} Results:\")\n",
        "    print(\"Accuracy:\", accuracy_score(y_test, y_pred))\n",
        "    print(\"Precision:\", precision_score(y_test, y_pred))\n",
        "    print(\"Recall:\", recall_score(y_test, y_pred))\n",
        "    print(\"F1:\", f1_score(y_test, y_pred))\n",
        "    print(\"Confusion Matrix:\\n\", confusion_matrix(y_test, y_pred))\n",
        "#Focused on recall to catch churners (business priority)"
      ],
      "metadata": {
        "colab": {
          "base_uri": "https://localhost:8080/"
        },
        "id": "SgvB6D4H1mIF",
        "outputId": "8177dcf8-d0a0-443d-ce6a-3bace5fbb407"
      },
      "execution_count": 82,
      "outputs": [
        {
          "output_type": "stream",
          "name": "stdout",
          "text": [
            "\n",
            "Logistic Regression Results:\n",
            "Accuracy: 0.8090844570617459\n",
            "Precision: 0.6688311688311688\n",
            "Recall: 0.5522788203753352\n",
            "F1: 0.604992657856094\n",
            "Confusion Matrix:\n",
            " [[934 102]\n",
            " [167 206]]\n",
            "\n",
            "Random Forest Results:\n",
            "Accuracy: 0.7984386089425124\n",
            "Precision: 0.6606498194945848\n",
            "Recall: 0.4906166219839142\n",
            "F1: 0.563076923076923\n",
            "Confusion Matrix:\n",
            " [[942  94]\n",
            " [190 183]]\n",
            "\n",
            "XGBoost Results:\n",
            "Accuracy: 0.7927608232789212\n",
            "Precision: 0.6391752577319587\n",
            "Recall: 0.49865951742627346\n",
            "F1: 0.5602409638554217\n",
            "Confusion Matrix:\n",
            " [[931 105]\n",
            " [187 186]]\n"
          ]
        }
      ]
    },
    {
      "cell_type": "code",
      "source": [
        "#Plot churn by tenure groups\n",
        "import seaborn as sns\n",
        "import matplotlib.pyplot as plt\n",
        "plt.figure(figsize=(10, 6))\n",
        "raw_df = pd.read_csv('WA_Fn-UseC_-Telco-Customer-Churn.csv')  # Reload raw\n",
        "raw_df['TenureGroup'] = pd.cut(raw_df['tenure'], bins=[0, 12, 24, 48, 72], labels=['0-1yr', '1-2yr', '2-4yr', '4-6yr'])\n",
        "sns.countplot(x='TenureGroup', hue='Churn', data=raw_df)\n",
        "plt.title('Churn by Tenure Group (Custom Analysis)')\n",
        "plt.xticks(rotation=45)\n",
        "plt.tight_layout()\n",
        "plt.savefig('churn_payment.png')\n",
        "plt.show()\n",
        "#Visualized tenure groups to highlight early churn risk"
      ],
      "metadata": {
        "colab": {
          "base_uri": "https://localhost:8080/",
          "height": 369
        },
        "id": "P4UmWEJN1uoU",
        "outputId": "ad530ba2-aac9-46fb-91b7-8c83ae7a5c0d"
      },
      "execution_count": 87,
      "outputs": [
        {
          "output_type": "display_data",
          "data": {
            "text/plain": [
              "<Figure size 1000x600 with 1 Axes>"
            ],
            "image/png": "[encoded data removed]"
          },
          "metadata": {}
        }
      ]
    },
    {
      "cell_type": "code",
      "source": [
        "#Plot top 10 feature importances (Random Forest)\n",
        "plt.figure(figsize=(10, 6))\n",
        "importances = model_rf.feature_importances_\n",
        "feat_imp = pd.Series(importances, index=X.columns).sort_values(ascending=False)[:10]\n",
        "feat_imp.plot(kind='bar')\n",
        "plt.title('Top 10 Feature Importances')\n",
        "plt.tight_layout()\n",
        "plt.savefig('feature_importance.png')\n",
        "plt.show()"
      ],
      "metadata": {
        "colab": {
          "base_uri": "https://localhost:8080/",
          "height": 369
        },
        "id": "kqZJnrje10zY",
        "outputId": "d2f8b7ff-b222-49c2-cfe7-9044990faa2f"
      },
      "execution_count": 89,
      "outputs": [
        {
          "output_type": "display_data",
          "data": {
            "text/plain": [
              "<Figure size 1000x600 with 1 Axes>"
            ],
            "image/png": "[encoded data removed]"
          },
          "metadata": {}
        }
      ]
    }
  ]
}